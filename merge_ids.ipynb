{
 "cells": [
  {
   "cell_type": "code",
   "execution_count": 1,
   "metadata": {},
   "outputs": [],
   "source": [
    "import numpy as np\n",
    "import pandas as pd\n",
    "\n",
    "import math"
   ]
  },
  {
   "cell_type": "markdown",
   "metadata": {},
   "source": [
    "### Load all nflscrapR rows"
   ]
  },
  {
   "cell_type": "code",
   "execution_count": 2,
   "metadata": {},
   "outputs": [
    {
     "name": "stderr",
     "output_type": "stream",
     "text": [
      "/usr/local/lib/python3.7/site-packages/IPython/core/interactiveshell.py:3049: DtypeWarning: Columns (42,166,167,174,175,178,179,182,183,188,189,190,191,203,204,205,231,232,233,238,240,241) have mixed types. Specify dtype option on import or set low_memory=False.\n",
      "  interactivity=interactivity, compiler=compiler, result=result)\n",
      "/usr/local/lib/python3.7/site-packages/IPython/core/interactiveshell.py:3049: DtypeWarning: Columns (166,167,168,169,174,175,178,179,182,183,188,189,190,191,194,195,203,204,205,218,219,220,231,232,233,238,240,241,249) have mixed types. Specify dtype option on import or set low_memory=False.\n",
      "  interactivity=interactivity, compiler=compiler, result=result)\n",
      "/usr/local/lib/python3.7/site-packages/IPython/core/interactiveshell.py:3049: DtypeWarning: Columns (37,38,39,42,46,47,166,167,168,169,172,173,174,175,176,177,178,179,182,183,184,185,188,189,190,191,192,193,194,195,198,199,203,204,205,224,225,226,227,231,232,233,238,240,241,244,245,246,250) have mixed types. Specify dtype option on import or set low_memory=False.\n",
      "  interactivity=interactivity, compiler=compiler, result=result)\n",
      "/usr/local/lib/python3.7/site-packages/IPython/core/interactiveshell.py:3049: DtypeWarning: Columns (166,167,168,169,174,175,178,179,182,183,188,189,190,191,198,199,200,201,202,203,204,205,207,209,211,226,227,231,232,233,238,240,241) have mixed types. Specify dtype option on import or set low_memory=False.\n",
      "  interactivity=interactivity, compiler=compiler, result=result)\n",
      "/usr/local/lib/python3.7/site-packages/IPython/core/interactiveshell.py:3049: DtypeWarning: Columns (166,167,168,169,178,179,182,183,188,189,190,191,194,195,198,199,203,204,205,226,227,231,232,233,238,240,241) have mixed types. Specify dtype option on import or set low_memory=False.\n",
      "  interactivity=interactivity, compiler=compiler, result=result)\n",
      "/usr/local/lib/python3.7/site-packages/IPython/core/interactiveshell.py:3049: DtypeWarning: Columns (42,166,167,168,169,174,175,178,179,182,183,188,189,190,191,203,204,205,231,232,233,238,240,241) have mixed types. Specify dtype option on import or set low_memory=False.\n",
      "  interactivity=interactivity, compiler=compiler, result=result)\n",
      "/usr/local/lib/python3.7/site-packages/IPython/core/interactiveshell.py:3049: DtypeWarning: Columns (42,166,167,174,175,178,179,182,183,188,189,203,204,205,231,232,233,238,240,241) have mixed types. Specify dtype option on import or set low_memory=False.\n",
      "  interactivity=interactivity, compiler=compiler, result=result)\n",
      "/usr/local/lib/python3.7/site-packages/IPython/core/interactiveshell.py:3049: DtypeWarning: Columns (167,168,169,170,175,176,179,180,183,184,189,190,191,192,195,196,199,200,204,205,206,227,228,232,233,234,239,241,242) have mixed types. Specify dtype option on import or set low_memory=False.\n",
      "  interactivity=interactivity, compiler=compiler, result=result)\n",
      "/usr/local/lib/python3.7/site-packages/ipykernel_launcher.py:9: FutureWarning: Sorting because non-concatenation axis is not aligned. A future version\n",
      "of pandas will change to not sort by default.\n",
      "\n",
      "To accept the future behavior, pass 'sort=False'.\n",
      "\n",
      "To retain the current behavior and silence the warning, pass 'sort=True'.\n",
      "\n",
      "  if __name__ == '__main__':\n",
      "/usr/local/lib/python3.7/site-packages/IPython/core/interactiveshell.py:3049: DtypeWarning: Columns (41,173,174,175,176,199,200,227,228) have mixed types. Specify dtype option on import or set low_memory=False.\n",
      "  interactivity=interactivity, compiler=compiler, result=result)\n",
      "/usr/local/lib/python3.7/site-packages/ipykernel_launcher.py:13: FutureWarning: Sorting because non-concatenation axis is not aligned. A future version\n",
      "of pandas will change to not sort by default.\n",
      "\n",
      "To accept the future behavior, pass 'sort=False'.\n",
      "\n",
      "To retain the current behavior and silence the warning, pass 'sort=True'.\n",
      "\n",
      "  del sys.path[0]\n",
      "/usr/local/lib/python3.7/site-packages/IPython/core/interactiveshell.py:3049: DtypeWarning: Columns (42,167,168,169,170,175,176,179,180,183,184,189,190,191,192,199,200,204,205,206,227,228,232,233,234,239,241,242,250) have mixed types. Specify dtype option on import or set low_memory=False.\n",
      "  interactivity=interactivity, compiler=compiler, result=result)\n",
      "/usr/local/lib/python3.7/site-packages/IPython/core/interactiveshell.py:3049: DtypeWarning: Columns (169,170,173,174,175,176,177,178,183,184,185,186,199,200,227,228) have mixed types. Specify dtype option on import or set low_memory=False.\n",
      "  interactivity=interactivity, compiler=compiler, result=result)\n",
      "/usr/local/lib/python3.7/site-packages/IPython/core/interactiveshell.py:3049: DtypeWarning: Columns (42,167,168,169,170,179,180,183,184,189,190,191,192,199,200,201,202,203,204,205,206,208,210,212,227,228,229,230,231,232,233,234,235,237,238,239,241,242,250) have mixed types. Specify dtype option on import or set low_memory=False.\n",
      "  interactivity=interactivity, compiler=compiler, result=result)\n",
      "/usr/local/lib/python3.7/site-packages/IPython/core/interactiveshell.py:3049: DtypeWarning: Columns (42,175,176,181,182,191,192,199,200,208,210,212,227,228,235,237,238,250) have mixed types. Specify dtype option on import or set low_memory=False.\n",
      "  interactivity=interactivity, compiler=compiler, result=result)\n"
     ]
    }
   ],
   "source": [
    "seasons = list(range(2009,2019)) # creates list of years through 2018\n",
    "\n",
    "# merge seasons into one df\n",
    "df = pd.DataFrame()\n",
    "for season in seasons:\n",
    "    path = './../data/nflscrapR-data/play_by_play_data/regular_season/reg_pbp_'+str(season)+'.csv'\n",
    "    season_df = pd.read_csv(path)\n",
    "    season_df['season'] = season\n",
    "    df = pd.concat([df, season_df], axis=0)\n",
    "    path = './../data/nflscrapR-data/play_by_play_data/post_season/post_pbp_'+str(season)+'.csv'\n",
    "    post_season_df = pd.read_csv(path)\n",
    "    post_season_df['season'] = season\n",
    "    df = pd.concat([df, post_season_df], axis=0)"
   ]
  },
  {
   "cell_type": "code",
   "execution_count": 3,
   "metadata": {},
   "outputs": [
    {
     "name": "stdout",
     "output_type": "stream",
     "text": [
      "472337\n"
     ]
    }
   ],
   "source": [
    "# jacksonville has different abbreviations\n",
    "df['posteam']=df['posteam'].replace('JAC','JAX')\n",
    "\n",
    "conf_teams = ['AFC','NFC','IRV','APR','NPR','RIC','SANS']\n",
    "df = df.loc[~df['posteam'].isin(conf_teams)]\n",
    "print(len(df))\n",
    "# print(list(df))"
   ]
  },
  {
   "cell_type": "code",
   "execution_count": 4,
   "metadata": {},
   "outputs": [
    {
     "name": "stdout",
     "output_type": "stream",
     "text": [
      "   age  av                                       draft  exp  height  \\\n",
      "0   26   0  Tampa Bay Buccaneers / 7th / 231st pick /     4    74.0   \n",
      "1   24   1                                         NaN    2    68.0   \n",
      "2   24   0                                         NaN    0    77.0   \n",
      "3   32   1          New York Jets / 1st / 27th pick /     9    78.0   \n",
      "4   31   0    Kansas City Chiefs / 4th / 107th pick /     8    76.0   \n",
      "\n",
      "                  id            name  pos salary  season  short_name team  \\\n",
      "0  2009ARIH.Abdullah  Hamza Abdullah  NaN    NaN    2009  H.Abdullah  ARI   \n",
      "1     2009ARIM.Adams   Michael Adams   DB    NaN    2009     M.Adams  ARI   \n",
      "2     2009ARIJ.Banks     Jason Banks  NaN    NaN    2009     J.Banks  ARI   \n",
      "3     2009ARIA.Becht   Anthony Becht   TE    NaN    2009     A.Becht  ARI   \n",
      "4    2009ARIM.Beisel    Monty Beisel  NaN    NaN    2009    M.Beisel  ARI   \n",
      "\n",
      "   weight  \n",
      "0     216  \n",
      "1     178  \n",
      "2     300  \n",
      "3     270  \n",
      "4     246  \n"
     ]
    }
   ],
   "source": [
    "attr = pd.read_csv('player_attr.csv')\n",
    "print(attr.head())"
   ]
  },
  {
   "cell_type": "markdown",
   "metadata": {},
   "source": [
    "### Merge in QBs that have 20 pass attempts in the nflscrapR dataset and are labeled QB in pro-football-reference"
   ]
  },
  {
   "cell_type": "code",
   "execution_count": 5,
   "metadata": {},
   "outputs": [
    {
     "name": "stdout",
     "output_type": "stream",
     "text": [
      "197611\n",
      "717\n",
      "    season posteam passer_player_id passer_player_name Prob Position  \\\n",
      "1     2009     PIT       00-0022924   B.Roethlisberger            QB   \n",
      "6     2009     TEN       00-0003292          K.Collins            QB   \n",
      "180   2009     CLE       00-0025409            B.Quinn            QB   \n",
      "190   2009     MIN       00-0005106            B.Favre            QB   \n",
      "332   2009     MIN       00-0024279          T.Jackson            QB   \n",
      "351   2009      NO       00-0020531            D.Brees            QB   \n",
      "359   2009     DET       00-0026498         M.Stafford            QB   \n",
      "534   2009     DAL       00-0021678             T.Romo            QB   \n",
      "546   2009      TB       00-0022177         B.Leftwich            QB   \n",
      "705   2009     HOU       00-0022787           M.Schaub            QB   \n",
      "\n",
      "                          id  \n",
      "1    2009PITB.Roethlisberger  \n",
      "6           2009TENK.Collins  \n",
      "180           2009CLEB.Quinn  \n",
      "190           2009MINB.Favre  \n",
      "332         2009MINT.Jackson  \n",
      "351            2009NOD.Brees  \n",
      "359        2009DETM.Stafford  \n",
      "534            2009DALT.Romo  \n",
      "546         2009TBB.Leftwich  \n",
      "705          2009HOUM.Schaub  \n"
     ]
    }
   ],
   "source": [
    "qbs = df.groupby(['passer_player_id'])['epa'].count().reset_index()\n",
    "qb_ids = qbs.loc[qbs.epa>=20]\n",
    "qb_ids = list(qb_ids.passer_player_id.values)\n",
    "qb_col = df[['season','posteam','passer_player_id','passer_player_name']]\n",
    "qb_col = qb_col.loc[qb_col['passer_player_id'].isin(qb_ids)]\n",
    "qb_col['Prob Position'] = 'QB'\n",
    "qb_col['season'] = qb_col.season.astype(str)\n",
    "qb_col['id'] = qb_col['season'] + qb_col['posteam'] + qb_col['passer_player_name']\n",
    "\n",
    "print(len(qb_col))\n",
    "qb_col = qb_col.drop_duplicates(subset=['id'])\n",
    "print(len(qb_col))\n",
    "print(qb_col.head(10))"
   ]
  },
  {
   "cell_type": "code",
   "execution_count": 6,
   "metadata": {},
   "outputs": [
    {
     "name": "stdout",
     "output_type": "stream",
     "text": [
      "717\n",
      "524\n",
      "  season posteam passer_player_id passer_player_name                       id  \\\n",
      "0   2009     PIT       00-0022924   B.Roethlisberger  2009PITB.Roethlisberger   \n",
      "1   2009     TEN       00-0003292          K.Collins         2009TENK.Collins   \n",
      "2   2009     CLE       00-0025409            B.Quinn           2009CLEB.Quinn   \n",
      "3   2009     MIN       00-0005106            B.Favre           2009MINB.Favre   \n",
      "5   2009      NO       00-0020531            D.Brees            2009NOD.Brees   \n",
      "\n",
      "    age    av                                     draft   exp  height  \\\n",
      "0  27.0  14.0  Pittsburgh Steelers / 1st / 11th pick /    5.0    77.0   \n",
      "1  37.0   2.0     Carolina Panthers / 1st / 5th pick /   14.0    77.0   \n",
      "2  25.0   2.0     Cleveland Browns / 1st / 22nd pick /    2.0    76.0   \n",
      "3  40.0  16.0      Atlanta Falcons / 2nd / 33rd pick /   18.0    74.0   \n",
      "5  30.0  16.0   San Diego Chargers / 2nd / 32nd pick /    8.0    72.0   \n",
      "\n",
      "                 name pos salary        short_name team  weight  \n",
      "0  Ben Roethlisberger  QB    NaN  B.Roethlisberger  PIT   240.0  \n",
      "1       Kerry Collins  QB    NaN         K.Collins  TEN   247.0  \n",
      "2         Brady Quinn  QB    NaN           B.Quinn  CLE   232.0  \n",
      "3         Brett Favre  QB    NaN           B.Favre  MIN   222.0  \n",
      "5          Drew Brees  QB    NaN           D.Brees   NO   209.0  \n"
     ]
    }
   ],
   "source": [
    "# print(len(attr))\n",
    "att_qb = attr.loc[attr['pos']=='QB']\n",
    "\n",
    "new = pd.merge(how='left',left=qb_col,right=att_qb,on=['id','id'])\n",
    "# print(new.tail(50))\n",
    "\n",
    "print(len(new))\n",
    "sure_qbs = new.loc[(new['Prob Position']=='QB') & (new['pos']=='QB')]\n",
    "print(len(sure_qbs))\n",
    "\n",
    "sure_qbs = sure_qbs.rename(columns={'season_x':'season'})\n",
    "sure_qbs = sure_qbs.drop(columns=['season_y', 'Prob Position'])\n",
    "\n",
    "print(sure_qbs.head(5))"
   ]
  },
  {
   "cell_type": "markdown",
   "metadata": {},
   "source": [
    "### Same for rbs with more than 50 rushes"
   ]
  },
  {
   "cell_type": "code",
   "execution_count": 7,
   "metadata": {},
   "outputs": [
    {
     "name": "stdout",
     "output_type": "stream",
     "text": [
      "120881\n",
      "1277\n",
      "     season posteam rusher_player_id rusher_player_name Prob Position  \\\n",
      "2      2009     PIT       00-0022250           W.Parker            RB   \n",
      "5      2009     TEN       00-0026164          C.Johnson            RB   \n",
      "21     2009     PIT       00-0026163       R.Mendenhall            RB   \n",
      "28     2009     TEN       00-0024260            L.White            RB   \n",
      "139    2009     PIT       00-0022217            M.Moore            RB   \n",
      "179    2009     CLE       00-0019693            J.Lewis            RB   \n",
      "181    2009     CLE       00-0023176           J.Cribbs            RB   \n",
      "188    2009     MIN       00-0025394         A.Peterson            RB   \n",
      "204    2009     MIN       00-0026998           P.Harvin            RB   \n",
      "234    2009     MIN       00-0021314           C.Taylor            RB   \n",
      "353    2009      NO       00-0024011             M.Bell            RB   \n",
      "354    2009      NO       00-0024217             R.Bush            RB   \n",
      "358    2009     DET       00-0026204           Kv.Smith            RB   \n",
      "370    2009     DET       00-0026286           J.Felton            RB   \n",
      "533    2009     DAL       00-0023544           M.Barber            RB   \n",
      "535    2009     DAL       00-0026262           T.Choice            RB   \n",
      "541    2009     DAL       00-0026162            F.Jones            RB   \n",
      "544    2009      TB       00-0023440         C.Williams            RB   \n",
      "566    2009      TB       00-0022770             D.Ward            RB   \n",
      "636    2009      TB       00-0021755           E.Graham            RB   \n",
      "704    2009     HOU       00-0026229           S.Slaton            RB   \n",
      "706    2009     HOU       00-0022092            C.Brown            RB   \n",
      "711    2009     NYJ       00-0019641            T.Jones            RB   \n",
      "719    2009     NYJ       00-0024332       L.Washington            RB   \n",
      "759    2009     NYJ       00-0024318            B.Smith            RB   \n",
      "867    2009     IND       00-0024245            J.Addai            RB   \n",
      "878    2009     JAX       00-0024275       M.Jones-Drew            RB   \n",
      "890    2009     IND       00-0027003            D.Brown            RB   \n",
      "906    2009     JAX       00-0024103            M.Owens            RB   \n",
      "1028   2009     DEN       00-0020270       C.Buckhalter            RB   \n",
      "1034   2009     CIN       00-0023439           C.Benson            RB   \n",
      "1043   2009     DEN       00-0026988           K.Moreno            RB   \n",
      "1051   2009     CIN       00-0025439          B.Leonard            RB   \n",
      "1076   2009     CIN       00-0026941            B.Scott            RB   \n",
      "1137   2009     DEN       00-0026367           P.Hillis            RB   \n",
      "1186   2009     CAR       00-0024242         D.Williams            RB   \n",
      "1196   2009     CAR       00-0026153          J.Stewart            RB   \n",
      "1207   2009     PHI       00-0021216        B.Westbrook            RB   \n",
      "1211   2009     PHI       00-0026189          D.Jackson            RB   \n",
      "1252   2009     PHI       00-0027029            L.McCoy            RB   \n",
      "1317   2009     PHI       00-0023063           L.Weaver            RB   \n",
      "1343   2009     CAR       00-0027080          M.Goodson            RB   \n",
      "1371   2009      KC       00-0021976          L.Johnson            RB   \n",
      "1382   2009     BAL       00-0026195             R.Rice            RB   \n",
      "1411   2009     BAL       00-0022178          W.McGahee            RB   \n",
      "1420   2009      KC       00-0026213          J.Charles            RB   \n",
      "1449   2009      KC       00-0025701           J.Battle            RB   \n",
      "1460   2009     BAL       00-0025524          L.McClain            RB   \n",
      "1553   2009     ATL       00-0022821           M.Turner            RB   \n",
      "1557   2009     ATL       00-0024294          J.Norwood            RB   \n",
      "\n",
      "                       id  \n",
      "2         2009PITW.Parker  \n",
      "5        2009TENC.Johnson  \n",
      "21    2009PITR.Mendenhall  \n",
      "28         2009TENL.White  \n",
      "139        2009PITM.Moore  \n",
      "179        2009CLEJ.Lewis  \n",
      "181       2009CLEJ.Cribbs  \n",
      "188     2009MINA.Peterson  \n",
      "204       2009MINP.Harvin  \n",
      "234       2009MINC.Taylor  \n",
      "353          2009NOM.Bell  \n",
      "354          2009NOR.Bush  \n",
      "358       2009DETKv.Smith  \n",
      "370       2009DETJ.Felton  \n",
      "533       2009DALM.Barber  \n",
      "535       2009DALT.Choice  \n",
      "541        2009DALF.Jones  \n",
      "544      2009TBC.Williams  \n",
      "566          2009TBD.Ward  \n",
      "636        2009TBE.Graham  \n",
      "704       2009HOUS.Slaton  \n",
      "706        2009HOUC.Brown  \n",
      "711        2009NYJT.Jones  \n",
      "719   2009NYJL.Washington  \n",
      "759        2009NYJB.Smith  \n",
      "867        2009INDJ.Addai  \n",
      "878   2009JAXM.Jones-Drew  \n",
      "890        2009INDD.Brown  \n",
      "906        2009JAXM.Owens  \n",
      "1028  2009DENC.Buckhalter  \n",
      "1034      2009CINC.Benson  \n",
      "1043      2009DENK.Moreno  \n",
      "1051     2009CINB.Leonard  \n",
      "1076       2009CINB.Scott  \n",
      "1137      2009DENP.Hillis  \n",
      "1186    2009CARD.Williams  \n",
      "1196     2009CARJ.Stewart  \n",
      "1207   2009PHIB.Westbrook  \n",
      "1211     2009PHID.Jackson  \n",
      "1252       2009PHIL.McCoy  \n",
      "1317      2009PHIL.Weaver  \n",
      "1343     2009CARM.Goodson  \n",
      "1371      2009KCL.Johnson  \n",
      "1382        2009BALR.Rice  \n",
      "1411     2009BALW.McGahee  \n",
      "1420      2009KCJ.Charles  \n",
      "1449       2009KCJ.Battle  \n",
      "1460     2009BALL.McClain  \n",
      "1553      2009ATLM.Turner  \n",
      "1557     2009ATLJ.Norwood  \n"
     ]
    }
   ],
   "source": [
    "rbs = df.groupby(['rusher_player_id'])['epa'].count().reset_index()\n",
    "rb_ids = rbs.loc[rbs.epa>=50]\n",
    "rb_ids = list(rb_ids.rusher_player_id.values)\n",
    "# drop qbs\n",
    "rb_ids = list(set(rb_ids)-set(qb_ids))\n",
    "rb_col = df[['season','posteam','rusher_player_id','rusher_player_name']]\n",
    "rb_col = rb_col.loc[rb_col['rusher_player_id'].isin(rb_ids)]\n",
    "rb_col['Prob Position'] = 'RB'\n",
    "rb_col['season'] = rb_col.season.astype(str)\n",
    "rb_col['id'] = rb_col['season'] + rb_col['posteam'] + rb_col['rusher_player_name']\n",
    "\n",
    "print(len(rb_col))\n",
    "rb_col = rb_col.drop_duplicates(subset=['id'])\n",
    "print(len(rb_col))\n",
    "print(rb_col.head(50))"
   ]
  },
  {
   "cell_type": "code",
   "execution_count": 8,
   "metadata": {},
   "outputs": [
    {
     "name": "stdout",
     "output_type": "stream",
     "text": [
      "1277\n",
      "698\n",
      "     season posteam rusher_player_id rusher_player_name                id  \\\n",
      "1262   2018     PIT       00-0034331          J.Samuels  2018PITJ.Samuels   \n",
      "1264   2018     NYJ       00-0033295          E.McGuire  2018NYJE.McGuire   \n",
      "1265   2018     DET       00-0031665           Z.Zenner   2018DETZ.Zenner   \n",
      "1267   2018      SF       00-0034115           J.Wilson    2018SFJ.Wilson   \n",
      "1272   2018      LA       00-0029854         C.Anderson  2018LAC.Anderson   \n",
      "\n",
      "       age   av                                      draft  exp  height  \\\n",
      "1262  22.0  3.0  Pittsburgh Steelers / 5th / 165th pick /   0.0    72.0   \n",
      "1264  24.0  3.0        New York Jets / 6th / 188th pick /   1.0    70.0   \n",
      "1265  27.0  2.0                                        NaN  3.0    71.0   \n",
      "1267  23.0  2.0                                        NaN  0.0    72.0   \n",
      "1272  27.0  2.0                                        NaN  5.0    68.0   \n",
      "\n",
      "                name pos    salary  short_name team  weight  \n",
      "1262  Jaylen Samuels  RB  $480,000   J.Samuels  PIT   225.0  \n",
      "1264  Elijah McGuire  RB  $378,000   E.McGuire  NYJ   214.0  \n",
      "1265     Zach Zenner  RB  $750,000    Z.Zenner  DET   224.0  \n",
      "1267     Jeff Wilson  RB  $129,200    J.Wilson   SF   194.0  \n",
      "1272   C.J. Anderson  RB   $92,941  C.Anderson   LA   225.0  \n"
     ]
    }
   ],
   "source": [
    "att_rb = attr.loc[attr['pos']=='RB']\n",
    "\n",
    "new = pd.merge(how='left',left=rb_col,right=att_rb,on=['id','id'])\n",
    "\n",
    "print(len(new))\n",
    "sure_rbs = new.loc[(new['Prob Position']=='RB') & (new['pos']=='RB')]\n",
    "print(len(sure_rbs))\n",
    "\n",
    "sure_rbs = sure_rbs.rename(columns={'season_x':'season'})\n",
    "sure_rbs = sure_rbs.drop(columns=['season_y', 'Prob Position'])\n",
    "print(sure_rbs.tail(5))"
   ]
  },
  {
   "cell_type": "markdown",
   "metadata": {},
   "source": [
    "### Same for wide receivers with more than 50 receptions"
   ]
  },
  {
   "cell_type": "code",
   "execution_count": 9,
   "metadata": {},
   "outputs": [
    {
     "name": "stdout",
     "output_type": "stream",
     "text": [
      "134176\n",
      "2331\n"
     ]
    }
   ],
   "source": [
    "wrs = df.groupby(['receiver_player_id'])['epa'].count().reset_index()\n",
    "wr_ids = wrs.loc[wrs.epa>=50]\n",
    "wr_ids = list(wr_ids.receiver_player_id.values)\n",
    "# drop qbs & rbs\n",
    "wr_ids = list(set(wr_ids)-set(qb_ids))\n",
    "wr_ids = list(set(wr_ids)-set(rb_ids))\n",
    "wr_col = df[['season','posteam','receiver_player_id','receiver_player_name']]\n",
    "wr_col = wr_col.loc[wr_col['receiver_player_id'].isin(wr_ids)]\n",
    "wr_col['Prob Position'] = 'WR/TE'\n",
    "wr_col['season'] = wr_col.season.astype(str)\n",
    "wr_col['id'] = wr_col['season'] + wr_col['posteam'] + wr_col['receiver_player_name']\n",
    "\n",
    "print(len(wr_col))\n",
    "wr_col = wr_col.drop_duplicates(subset=['id'])\n",
    "print(len(wr_col))\n",
    "# print(wr_col.head(50))"
   ]
  },
  {
   "cell_type": "code",
   "execution_count": 10,
   "metadata": {},
   "outputs": [
    {
     "name": "stdout",
     "output_type": "stream",
     "text": [
      "2333\n",
      "1156\n",
      "     season posteam receiver_player_id receiver_player_name  \\\n",
      "2323   2018     NYG         00-0032966            C.Coleman   \n",
      "2324   2018     DET         00-0031326          B.Ellington   \n",
      "2325   2018     BUF         00-0029388           D.Thompson   \n",
      "2326   2018     MIA         00-0030516             B.Butler   \n",
      "2329   2018     PIT         00-0031782             E.Rogers   \n",
      "\n",
      "                      id   age   av  \\\n",
      "2323    2018NYGC.Coleman  24.0  1.0   \n",
      "2324  2018DETB.Ellington  27.0  1.0   \n",
      "2325   2018BUFD.Thompson  29.0  0.0   \n",
      "2326     2018MIAB.Butler  28.0  0.0   \n",
      "2329     2018PITE.Rogers  26.0  1.0   \n",
      "\n",
      "                                          draft  exp  height             name  \\\n",
      "2323      Cleveland Browns / 1st / 15th pick /   2.0    71.0    Corey Coleman   \n",
      "2324  San Francisco 49ers / 4th / 106th pick /   4.0    69.0  Bruce Ellington   \n",
      "2325                                        NaN  6.0    72.0  Deonte Thompson   \n",
      "2326      Oakland Raiders / 7th / 209th pick /   5.0    75.0     Brice Butler   \n",
      "2329                                        NaN  2.0    70.0       Eli Rogers   \n",
      "\n",
      "     pos    salary   short_name team  weight  \n",
      "2323  WR  $370,588    C.Coleman  NYG   185.0  \n",
      "2324  WR  $371,765  B.Ellington  DET   200.0  \n",
      "2325  WR  $325,294   D.Thompson  BUF   204.0  \n",
      "2326  WR  $325,294     B.Butler  MIA   211.0  \n",
      "2329  WR  $592,944     E.Rogers  PIT   187.0  \n"
     ]
    }
   ],
   "source": [
    "att_wr = attr.loc[attr['pos']=='WR']\n",
    "\n",
    "new = pd.merge(how='left',left=wr_col,right=att_wr,on=['id','id'])\n",
    "\n",
    "print(len(new))\n",
    "sure_wrs = new.loc[(new['Prob Position']=='WR/TE') & (new['pos']=='WR')]\n",
    "print(len(sure_wrs))\n",
    "\n",
    "sure_wrs = sure_wrs.rename(columns={'season_x':'season'})\n",
    "sure_wrs = sure_wrs.drop(columns=['season_y', 'Prob Position'])\n",
    "print(sure_wrs.tail(5))"
   ]
  },
  {
   "cell_type": "markdown",
   "metadata": {},
   "source": [
    "### And tight ends"
   ]
  },
  {
   "cell_type": "code",
   "execution_count": 11,
   "metadata": {},
   "outputs": [
    {
     "name": "stdout",
     "output_type": "stream",
     "text": [
      "2333\n",
      "656\n",
      "     season posteam receiver_player_id receiver_player_name  \\\n",
      "2297   2018     OAK         00-0028097              L.Smith   \n",
      "2306   2018     MIA         00-0032117            N.O'Leary   \n",
      "2312   2018     JAX         00-0032062               B.Bell   \n",
      "2313   2018     SEA         00-0027675            E.Dickson   \n",
      "2329   2018     ARI         00-0027139           J.Phillips   \n",
      "\n",
      "                     id   age   av  \\\n",
      "2297     2018OAKL.Smith  31.0  1.0   \n",
      "2306   2018MIAN.O'Leary  26.0  1.0   \n",
      "2312      2018JAXB.Bell  27.0  0.0   \n",
      "2313   2018SEAE.Dickson  31.0  1.0   \n",
      "2329  2018ARIJ.Phillips  31.0  0.0   \n",
      "\n",
      "                                           draft  exp  height           name  \\\n",
      "2297  New England Patriots / 5th / 159th pick /   7.0    78.0      Lee Smith   \n",
      "2306         Buffalo Bills / 6th / 194th pick /   3.0    75.0   Nick O'Leary   \n",
      "2312   San Francisco 49ers / 4th / 117th pick /   3.0    78.0     Blake Bell   \n",
      "2313       Baltimore Ravens / 3rd / 70th pick /   8.0    76.0     Ed Dickson   \n",
      "2329        Dallas Cowboys / 6th / 208th pick /   9.0    77.0  John Phillips   \n",
      "\n",
      "     pos      salary  short_name team  weight  \n",
      "2297  TE  $2,000,000     L.Smith  OAK   265.0  \n",
      "2306  TE    $617,123   N.O'Leary  MIA   252.0  \n",
      "2312  TE    $456,176      B.Bell  JAX   252.0  \n",
      "2313  TE  $1,000,000   E.Dickson  SEA   250.0  \n",
      "2329  TE    $484,416  J.Phillips  ARI   251.0  \n"
     ]
    }
   ],
   "source": [
    "att_te = attr.loc[attr['pos']=='TE']\n",
    "\n",
    "sure_tes = pd.merge(how='left',left=wr_col,right=att_te,on=['id','id'])\n",
    "\n",
    "print(len(new))\n",
    "sure_tes = sure_tes.loc[(sure_tes['Prob Position']=='WR/TE') & (sure_tes['pos']=='TE')]\n",
    "print(len(sure_tes))\n",
    "\n",
    "sure_tes = sure_tes.rename(columns={'season_x':'season'})\n",
    "sure_tes = sure_tes.drop(columns=['season_y', 'Prob Position'])\n",
    "print(sure_tes.tail(5))"
   ]
  },
  {
   "cell_type": "markdown",
   "metadata": {},
   "source": [
    "### Put them all together"
   ]
  },
  {
   "cell_type": "code",
   "execution_count": 12,
   "metadata": {},
   "outputs": [
    {
     "name": "stdout",
     "output_type": "stream",
     "text": [
      "     season posteam passer_player_id passer_player_name                 id  \\\n",
      "2297   2018     OAK              NaN                NaN     2018OAKL.Smith   \n",
      "2306   2018     MIA              NaN                NaN   2018MIAN.O'Leary   \n",
      "2312   2018     JAX              NaN                NaN      2018JAXB.Bell   \n",
      "2313   2018     SEA              NaN                NaN   2018SEAE.Dickson   \n",
      "2329   2018     ARI              NaN                NaN  2018ARIJ.Phillips   \n",
      "\n",
      "       age   av                                       draft  exp  height  \\\n",
      "2297  31.0  1.0  New England Patriots / 5th / 159th pick /   7.0    78.0   \n",
      "2306  26.0  1.0         Buffalo Bills / 6th / 194th pick /   3.0    75.0   \n",
      "2312  27.0  0.0   San Francisco 49ers / 4th / 117th pick /   3.0    78.0   \n",
      "2313  31.0  1.0       Baltimore Ravens / 3rd / 70th pick /   8.0    76.0   \n",
      "2329  31.0  0.0        Dallas Cowboys / 6th / 208th pick /   9.0    77.0   \n",
      "\n",
      "               name pos      salary  short_name team  weight rusher_player_id  \\\n",
      "2297      Lee Smith  TE  $2,000,000     L.Smith  OAK   265.0              NaN   \n",
      "2306   Nick O'Leary  TE    $617,123   N.O'Leary  MIA   252.0              NaN   \n",
      "2312     Blake Bell  TE    $456,176      B.Bell  JAX   252.0              NaN   \n",
      "2313     Ed Dickson  TE  $1,000,000   E.Dickson  SEA   250.0              NaN   \n",
      "2329  John Phillips  TE    $484,416  J.Phillips  ARI   251.0              NaN   \n",
      "\n",
      "     rusher_player_name receiver_player_id receiver_player_name  \n",
      "2297                NaN         00-0028097              L.Smith  \n",
      "2306                NaN         00-0032117            N.O'Leary  \n",
      "2312                NaN         00-0032062               B.Bell  \n",
      "2313                NaN         00-0027675            E.Dickson  \n",
      "2329                NaN         00-0027139           J.Phillips  \n"
     ]
    }
   ],
   "source": [
    "sure_players = None\n",
    "sure_players = pd.concat([sure_qbs,sure_rbs],axis=0,sort=False)\n",
    "sure_players = pd.concat([sure_players,sure_wrs],axis=0,sort=False)\n",
    "sure_players = pd.concat([sure_players,sure_tes],axis=0,sort=False)\n",
    "\n",
    "print(sure_players.tail(5))"
   ]
  },
  {
   "cell_type": "code",
   "execution_count": 13,
   "metadata": {},
   "outputs": [
    {
     "name": "stdout",
     "output_type": "stream",
     "text": [
      "852\n"
     ]
    }
   ],
   "source": [
    "qb_ids = list(sure_players.passer_player_id.unique())\n",
    "rb_ids = list(sure_players.rusher_player_id.unique())\n",
    "wr_ids = list(sure_players.receiver_player_id.unique())\n",
    "\n",
    "sure_ids = list(set(qb_ids+rb_ids+wr_ids))\n",
    "print(len(sure_ids))"
   ]
  },
  {
   "cell_type": "code",
   "execution_count": 14,
   "metadata": {},
   "outputs": [],
   "source": [
    "# runs = df.loc[df.play_type=='run']\n",
    "# print(len(runs))\n",
    "\n",
    "# found = runs.loc[runs.rusher_player_id.isin(sure_ids)]\n",
    "# print(len(found))\n",
    "\n",
    "# 129201 out of 139328 -- 93% rush plays"
   ]
  },
  {
   "cell_type": "code",
   "execution_count": 15,
   "metadata": {},
   "outputs": [],
   "source": [
    "# _qbs = df.loc[df.play_type=='pass']\n",
    "# print(len(_qbs))\n",
    "\n",
    "# found = _qbs.loc[_qbs.passer_player_id.isin(sure_ids)]\n",
    "# print(len(found))\n",
    "\n",
    "#175,000 receivers out of 196,484 plays -- 89.3%\n",
    "#195,247 out of 196,484 passers -- 99.3%"
   ]
  },
  {
   "cell_type": "markdown",
   "metadata": {},
   "source": [
    "### Merge in players that don't have a position listed on pro-football-reference"
   ]
  },
  {
   "cell_type": "code",
   "execution_count": 16,
   "metadata": {},
   "outputs": [
    {
     "name": "stdout",
     "output_type": "stream",
     "text": [
      "717\n",
      "27\n",
      "2333\n",
      "   season posteam passer_player_id passer_player_name                id   age  \\\n",
      "20   2016     CHI       00-0031076            D.Fales    2016CHID.Fales  26.0   \n",
      "21   2016     OAK       00-0032893             C.Cook     2016OAKC.Cook  23.0   \n",
      "23   2017     MIA       00-0031076            D.Fales    2017MIAD.Fales  27.0   \n",
      "24   2017     PHI       00-0032792          N.Sudfeld  2017PHIN.Sudfeld  24.0   \n",
      "26   2018     PHI       00-0032792          N.Sudfeld  2018PHIN.Sudfeld  25.0   \n",
      "\n",
      "     av                                      draft  exp  height          name  \\\n",
      "20  0.0        Chicago Bears / 6th / 183rd pick /   2.0    74.0   David Fales   \n",
      "21  0.0      Oakland Raiders / 4th / 100th pick /   0.0    76.0   Connor Cook   \n",
      "23  1.0        Chicago Bears / 6th / 183rd pick /   3.0    74.0   David Fales   \n",
      "24  1.0  Washington Redskins / 6th / 187th pick /   0.0    78.0  Nate Sudfeld   \n",
      "26  0.0  Washington Redskins / 6th / 187th pick /   1.0    78.0  Nate Sudfeld   \n",
      "\n",
      "   pos    salary short_name team  weight  \n",
      "20  QB  $211,764    D.Fales  CHI   210.0  \n",
      "21  QB  $604,972     C.Cook  OAK   215.0  \n",
      "23  QB  $405,880    D.Fales  MIA   210.0  \n",
      "24  QB  $285,882  N.Sudfeld  PHI   227.0  \n",
      "26  QB  $630,000  N.Sudfeld  PHI   227.0  \n"
     ]
    }
   ],
   "source": [
    "pos_list = ['DB', 'TE', 'ROLB', 'WR', 'LT', 'RT', 'DE', 'LB', 'DT', 'P', 'LOLB', 'RB', 'FS', 'FB', 'K', 'QB', 'RG', 'RCB', 'NT', 'LCB', 'C', 'LG', 'MLB', 'SS', 'S', 'CB', 'LDT', 'T', 'RILB', 'RDT', 'LILB', 'G', 'DL']\n",
    "nconf = attr.loc[~attr['pos'].isin(pos_list)]\n",
    "\n",
    "# merge in players without listed position\n",
    "print(len(qb_col))\n",
    "nconf_qb = qb_col.loc[~qb_col.passer_player_id.isin(sure_ids)]\n",
    "print(len(nconf_qb))\n",
    "maybe_qbs = pd.merge(how='left',left=nconf_qb,right=nconf,on=['id','id'])\n",
    "\n",
    "maybe_qbs.pos = 'QB'\n",
    "print(len(new))\n",
    "\n",
    "maybe_qbs.dropna(subset=['name'],inplace=True)\n",
    "\n",
    "maybe_ids = list(maybe_qbs.passer_player_id.unique())\n",
    "\n",
    "maybe_qbs = maybe_qbs.rename(columns={'season_x':'season'})\n",
    "maybe_qbs = maybe_qbs.drop(columns=['season_y', 'Prob Position'])\n",
    "print(maybe_qbs.tail(5))"
   ]
  },
  {
   "cell_type": "code",
   "execution_count": 17,
   "metadata": {},
   "outputs": [
    {
     "name": "stdout",
     "output_type": "stream",
     "text": [
      "1277\n",
      "192\n",
      "192\n",
      "6\n",
      "43\n",
      "    season posteam rusher_player_id rusher_player_name                   id  \\\n",
      "185   2018     ARI       00-0034681          C.Edmonds     2018ARIC.Edmonds   \n",
      "186   2018     ATL       00-0034378            I.Smith       2018ATLI.Smith   \n",
      "187   2018     WAS       00-0031102            K.Bibbs       2018WASK.Bibbs   \n",
      "188   2018     CHI       00-0029795       B.Cunningham  2018CHIB.Cunningham   \n",
      "191   2018      GB       00-0031102            K.Bibbs        2018GBK.Bibbs   \n",
      "\n",
      "      age   av                                    draft  exp  height  \\\n",
      "185  22.0  2.0  Arizona Cardinals / 4th / 134th pick /   0.0    69.0   \n",
      "186  23.0  3.0    Atlanta Falcons / 4th / 126th pick /   0.0    69.0   \n",
      "187  25.0  1.0                                      NaN  4.0    70.0   \n",
      "188  28.0  0.0                                      NaN  5.0    70.0   \n",
      "191  25.0  0.0                                      NaN  4.0    70.0   \n",
      "\n",
      "                 name pos    salary    short_name team  weight  \n",
      "185     Chase Edmonds  RB  $480,000     C.Edmonds  ARI   210.0  \n",
      "186         Ito Smith  RB  $480,000       I.Smith  ATL   195.0  \n",
      "187       Kapri Bibbs  RB  $129,200       K.Bibbs  WAS   203.0  \n",
      "188  Benny Cunningham  RB  $800,000  B.Cunningham  CHI   218.0  \n",
      "191       Kapri Bibbs  RB  $129,200       K.Bibbs   GB   203.0  \n"
     ]
    }
   ],
   "source": [
    "print(len(rb_col))\n",
    "nconf_rb = rb_col.loc[~rb_col.rusher_player_id.isin(sure_ids)]\n",
    "print(len(nconf_rb))\n",
    "nconf_rb = nconf_rb.loc[~nconf_rb.rusher_player_id.isin(maybe_ids)]\n",
    "print(len(nconf_rb))\n",
    "maybe_rbs = pd.merge(how='left',left=nconf_rb,right=nconf,on=['id','id'])\n",
    "\n",
    "maybe_rbs.pos = 'RB'\n",
    "\n",
    "maybe_rbs.dropna(subset=['name'],inplace=True)\n",
    "\n",
    "print(len(maybe_ids))\n",
    "maybe_ids = list(set(maybe_ids + list(maybe_rbs.rusher_player_id)))\n",
    "print(len(maybe_ids))\n",
    "\n",
    "maybe_rbs = maybe_rbs.rename(columns={'season_x':'season'})\n",
    "maybe_rbs = maybe_rbs.drop(columns=['season_y', 'Prob Position'])\n",
    "print(maybe_rbs.tail(5))"
   ]
  },
  {
   "cell_type": "code",
   "execution_count": 18,
   "metadata": {},
   "outputs": [
    {
     "name": "stdout",
     "output_type": "stream",
     "text": [
      "2331\n",
      "132\n",
      "132\n",
      "maybe wrs len 132\n",
      "21\n",
      "43\n",
      "54\n",
      "    season posteam receiver_player_id receiver_player_name                 id  \\\n",
      "104   2015     ATL         00-0029848           N.Williams  2015ATLN.Williams   \n",
      "116   2016     ATL         00-0029848           N.Williams  2016ATLN.Williams   \n",
      "123   2017     ATL         00-0029848           N.Williams  2017ATLN.Williams   \n",
      "129   2018     TEN         00-0029848           N.Williams  2018TENN.Williams   \n",
      "131   2018      LA         00-0029848           N.Williams   2018LAN.Williams   \n",
      "\n",
      "      age   av draft  exp  height           name    pos    salary  short_name  \\\n",
      "104  25.0  1.0   NaN  2.0    70.0  Nick Williams  WR/TE  $510,000  N.Williams   \n",
      "116  26.0  1.0   NaN  3.0    70.0  Nick Williams  WR/TE  $141,176  N.Williams   \n",
      "123  27.0  0.0   NaN  4.0    70.0  Nick Williams  WR/TE  $690,000  N.Williams   \n",
      "129  28.0  0.0   NaN  5.0    70.0  Nick Williams  WR/TE  $697,065  N.Williams   \n",
      "131  28.0  0.0   NaN  5.0    70.0  Nick Williams  WR/TE  $511,176  N.Williams   \n",
      "\n",
      "    team  weight  \n",
      "104  ATL   184.0  \n",
      "116  ATL   184.0  \n",
      "123  ATL   184.0  \n",
      "129  TEN   184.0  \n",
      "131   LA   184.0  \n"
     ]
    }
   ],
   "source": [
    "print(len(wr_col))\n",
    "nconf_wr = wr_col.loc[~wr_col.receiver_player_id.isin(sure_ids)]\n",
    "print(len(nconf_wr))\n",
    "nconf_wr = nconf_wr.loc[~nconf_wr.receiver_player_id.isin(maybe_ids)]\n",
    "print(len(nconf_wr))\n",
    "maybe_wrs = pd.merge(how='left',left=nconf_wr,right=nconf,on=['id','id'])\n",
    "# print(new.tail(10))\n",
    "\n",
    "maybe_wrs.pos = 'WR/TE'\n",
    "print('maybe wrs len', len(maybe_wrs))\n",
    "maybe_wrs.dropna(subset=['name'],inplace=True)\n",
    "print(len(maybe_wrs))\n",
    "\n",
    "print(len(maybe_ids))\n",
    "maybe_ids = list(set(maybe_ids + list(maybe_wrs.receiver_player_id)))\n",
    "print(len(maybe_ids))\n",
    "\n",
    "maybe_wrs = maybe_wrs.rename(columns={'season_x':'season'})\n",
    "maybe_wrs = maybe_wrs.drop(columns=['season_y', 'Prob Position'])\n",
    "print(maybe_wrs.tail(5))"
   ]
  },
  {
   "cell_type": "markdown",
   "metadata": {},
   "source": [
    "### Put all that together"
   ]
  },
  {
   "cell_type": "code",
   "execution_count": 19,
   "metadata": {},
   "outputs": [
    {
     "name": "stdout",
     "output_type": "stream",
     "text": [
      "906\n"
     ]
    }
   ],
   "source": [
    "maybe_players = None\n",
    "maybe_players = pd.concat([maybe_qbs,maybe_rbs],axis=0,sort=False)\n",
    "maybe_players = pd.concat([maybe_players,maybe_wrs],axis=0,sort=False)\n",
    "\n",
    "sm_players = pd.concat([sure_players,maybe_players],axis=0,sort=False)\n",
    "all_ids = sure_ids + maybe_ids\n",
    "print(len(all_ids))"
   ]
  },
  {
   "cell_type": "markdown",
   "metadata": {},
   "source": [
    "### Merge in players no matter the position listed"
   ]
  },
  {
   "cell_type": "code",
   "execution_count": 20,
   "metadata": {},
   "outputs": [
    {
     "name": "stdout",
     "output_type": "stream",
     "text": [
      "5192\n",
      "3848\n",
      "1328\n"
     ]
    },
    {
     "name": "stderr",
     "output_type": "stream",
     "text": [
      "/usr/local/lib/python3.7/site-packages/pandas/core/generic.py:5096: SettingWithCopyWarning: \n",
      "A value is trying to be set on a copy of a slice from a DataFrame.\n",
      "Try using .loc[row_indexer,col_indexer] = value instead\n",
      "\n",
      "See the caveats in the documentation: http://pandas.pydata.org/pandas-docs/stable/indexing.html#indexing-view-versus-copy\n",
      "  self[name] = value\n",
      "/usr/local/lib/python3.7/site-packages/ipykernel_launcher.py:7: SettingWithCopyWarning: \n",
      "A value is trying to be set on a copy of a slice from a DataFrame.\n",
      "Try using .loc[row_indexer,col_indexer] = value instead\n",
      "\n",
      "See the caveats in the documentation: http://pandas.pydata.org/pandas-docs/stable/indexing.html#indexing-view-versus-copy\n",
      "  import sys\n"
     ]
    }
   ],
   "source": [
    "runs = df.loc[df.play_type=='run']\n",
    "\n",
    "not_found = runs.loc[~runs.rusher_player_id.isin(all_ids)]\n",
    "\n",
    "not_found.season = not_found.season.astype(str)\n",
    "nf_col = not_found[['season','posteam','rusher_player_id','rusher_player_name']]\n",
    "nf_col['id'] = nf_col.season + nf_col.posteam + nf_col.rusher_player_name\n",
    "\n",
    "last_rbs = pd.merge(how='left',left=nf_col,right=attr,on=['id','id'])\n",
    "\n",
    "last_rbs = last_rbs.rename(columns={'season_x':'season'})\n",
    "last_rbs = last_rbs.drop(columns=['season_y'])\n",
    "print(len(last_rbs))\n",
    "last_rbs.dropna(subset=['name'],inplace=True)\n",
    "print(len(last_rbs))\n",
    "\n",
    "all_ids = list(set(all_ids + list(last_rbs.rusher_player_id.unique())))\n",
    "print(len(all_ids))\n"
   ]
  },
  {
   "cell_type": "code",
   "execution_count": 21,
   "metadata": {},
   "outputs": [
    {
     "name": "stdout",
     "output_type": "stream",
     "text": [
      "1328\n",
      "1834\n"
     ]
    },
    {
     "name": "stderr",
     "output_type": "stream",
     "text": [
      "/usr/local/lib/python3.7/site-packages/ipykernel_launcher.py:7: SettingWithCopyWarning: \n",
      "A value is trying to be set on a copy of a slice from a DataFrame.\n",
      "Try using .loc[row_indexer,col_indexer] = value instead\n",
      "\n",
      "See the caveats in the documentation: http://pandas.pydata.org/pandas-docs/stable/indexing.html#indexing-view-versus-copy\n",
      "  import sys\n"
     ]
    }
   ],
   "source": [
    "passes = df.loc[df.play_type=='pass']\n",
    "\n",
    "not_found = passes.loc[~passes.receiver_player_id.isin(all_ids)]\n",
    "\n",
    "not_found.season = not_found.season.astype(str)\n",
    "nf_col = not_found[['season','posteam','receiver_player_id','receiver_player_name']]\n",
    "nf_col['id'] = nf_col.season + nf_col.posteam + nf_col.receiver_player_name\n",
    "\n",
    "last_wrs = pd.merge(how='left',left=nf_col,right=attr,on=['id','id'])\n",
    "\n",
    "last_wrs = last_wrs.rename(columns={'season_x':'season'})\n",
    "last_wrs = last_wrs.drop(columns=['season_y'])\n",
    "\n",
    "last_wrs.dropna(subset=['name'],inplace=True)\n",
    "\n",
    "print(len(all_ids))\n",
    "all_ids = list(set(all_ids + list(last_wrs.receiver_player_id.unique())))\n",
    "print(len(all_ids))"
   ]
  },
  {
   "cell_type": "code",
   "execution_count": 22,
   "metadata": {},
   "outputs": [
    {
     "name": "stderr",
     "output_type": "stream",
     "text": [
      "/usr/local/lib/python3.7/site-packages/ipykernel_launcher.py:5: SettingWithCopyWarning: \n",
      "A value is trying to be set on a copy of a slice from a DataFrame.\n",
      "Try using .loc[row_indexer,col_indexer] = value instead\n",
      "\n",
      "See the caveats in the documentation: http://pandas.pydata.org/pandas-docs/stable/indexing.html#indexing-view-versus-copy\n",
      "  \"\"\"\n"
     ]
    },
    {
     "name": "stdout",
     "output_type": "stream",
     "text": [
      "1834\n",
      "1863\n"
     ]
    }
   ],
   "source": [
    "not_found = passes.loc[~passes.passer_player_id.isin(all_ids)]\n",
    "\n",
    "not_found.season = not_found.season.astype(str)\n",
    "nf_col = not_found[['season','posteam','passer_player_id','passer_player_name']]\n",
    "nf_col['id'] = nf_col.season + nf_col.posteam + nf_col.passer_player_name\n",
    "\n",
    "last_qbs = pd.merge(how='left',left=nf_col,right=attr,on=['id','id'])\n",
    "\n",
    "last_qbs = last_qbs.rename(columns={'season_x':'season'})\n",
    "last_qbs = last_qbs.drop(columns=['season_y'])\n",
    "\n",
    "last_qbs.dropna(subset=['name'],inplace=True)\n",
    "\n",
    "print(len(all_ids))\n",
    "all_ids = list(set(all_ids + list(last_qbs.passer_player_id.unique())))\n",
    "print(len(all_ids))"
   ]
  },
  {
   "cell_type": "code",
   "execution_count": 23,
   "metadata": {},
   "outputs": [
    {
     "name": "stdout",
     "output_type": "stream",
     "text": [
      "13125\n",
      "1863\n"
     ]
    }
   ],
   "source": [
    "last_players = None\n",
    "last_players = pd.concat([last_qbs,last_rbs],axis=0,sort=False)\n",
    "last_players = pd.concat([last_players,last_wrs],axis=0,sort=False)\n",
    "\n",
    "all_players = pd.concat([sm_players,last_players],axis=0,sort=False)\n",
    "\n",
    "print(len(all_players))\n",
    "print(len(all_ids))"
   ]
  },
  {
   "cell_type": "markdown",
   "metadata": {},
   "source": [
    "### Cleanup and output file"
   ]
  },
  {
   "cell_type": "code",
   "execution_count": 24,
   "metadata": {},
   "outputs": [
    {
     "name": "stdout",
     "output_type": "stream",
     "text": [
      "  season posteam passer_player_id                       id   age    av  \\\n",
      "0   2009     PIT       00-0022924  2009PITB.Roethlisberger  27.0  14.0   \n",
      "1   2009     TEN       00-0003292         2009TENK.Collins  37.0   2.0   \n",
      "2   2009     CLE       00-0025409           2009CLEB.Quinn  25.0   2.0   \n",
      "3   2009     MIN       00-0005106           2009MINB.Favre  40.0  16.0   \n",
      "5   2009      NO       00-0020531            2009NOD.Brees  30.0  16.0   \n",
      "\n",
      "                                      draft   exp  height                name  \\\n",
      "0  Pittsburgh Steelers / 1st / 11th pick /    5.0    77.0  Ben Roethlisberger   \n",
      "1     Carolina Panthers / 1st / 5th pick /   14.0    77.0       Kerry Collins   \n",
      "2     Cleveland Browns / 1st / 22nd pick /    2.0    76.0         Brady Quinn   \n",
      "3      Atlanta Falcons / 2nd / 33rd pick /   18.0    74.0         Brett Favre   \n",
      "5   San Diego Chargers / 2nd / 32nd pick /    8.0    72.0          Drew Brees   \n",
      "\n",
      "  pos salary        short_name team  weight rusher_player_id  \\\n",
      "0  QB    NaN  B.Roethlisberger  PIT   240.0              NaN   \n",
      "1  QB    NaN         K.Collins  TEN   247.0              NaN   \n",
      "2  QB    NaN           B.Quinn  CLE   232.0              NaN   \n",
      "3  QB    NaN           B.Favre  MIN   222.0              NaN   \n",
      "5  QB    NaN           D.Brees   NO   209.0              NaN   \n",
      "\n",
      "  receiver_player_id  \n",
      "0                NaN  \n",
      "1                NaN  \n",
      "2                NaN  \n",
      "3                NaN  \n",
      "5                NaN  \n"
     ]
    }
   ],
   "source": [
    "output = all_players.drop(columns=['passer_player_name','rusher_player_name','receiver_player_name'])\n",
    "\n",
    "print(output.head())"
   ]
  },
  {
   "cell_type": "code",
   "execution_count": 29,
   "metadata": {},
   "outputs": [
    {
     "name": "stdout",
     "output_type": "stream",
     "text": [
      "0        Ben Roethlisberger\n",
      "1             Kerry Collins\n",
      "2               Brady Quinn\n",
      "3               Brett Favre\n",
      "4                Drew Brees\n",
      "5          Matthew Stafford\n",
      "6                 Tony Romo\n",
      "7            Byron Leftwich\n",
      "8               Matt Schaub\n",
      "9              Mark Sanchez\n",
      "10           Peyton Manning\n",
      "11            David Garrard\n",
      "12               Kyle Orton\n",
      "13            Carson Palmer\n",
      "14            Jake Delhomme\n",
      "15           Donovan McNabb\n",
      "16               Kevin Kolb\n",
      "17               Matt Moore\n",
      "18            Brodie Croyle\n",
      "19               Joe Flacco\n",
      "20                Matt Ryan\n",
      "21          Chad Pennington\n",
      "22              Kurt Warner\n",
      "23               Shaun Hill\n",
      "24          Matt Hasselbeck\n",
      "25              Eli Manning\n",
      "26           Jason Campbell\n",
      "27            Aaron Rodgers\n",
      "28               Jay Cutler\n",
      "29                Tom Brady\n",
      "                ...        \n",
      "13095            Noah Brown\n",
      "13096          Blake Jarwin\n",
      "13097          Blake Jarwin\n",
      "13098          Blake Jarwin\n",
      "13099            Noah Brown\n",
      "13100            Noah Brown\n",
      "13101        Ben Braunecker\n",
      "13102          Adam Shaheen\n",
      "13103          Adam Shaheen\n",
      "13104          Adam Shaheen\n",
      "13105        Ben Braunecker\n",
      "13106        Dallas Goedert\n",
      "13107          Adam Shaheen\n",
      "13108        Dallas Goedert\n",
      "13109        Dallas Goedert\n",
      "13110        Dallas Goedert\n",
      "13111           Mo Alie-Cox\n",
      "13112         Gehrig Dieter\n",
      "13113          Blake Jarwin\n",
      "13114        Dalton Schultz\n",
      "13115          Blake Jarwin\n",
      "13116          Rico Gathers\n",
      "13117        Dalton Schultz\n",
      "13118            Noah Brown\n",
      "13119        Keith Kirkwood\n",
      "13120        Keith Kirkwood\n",
      "13121            Dan Arnold\n",
      "13122           Sam Shields\n",
      "13123            Dan Arnold\n",
      "13124           Austin Carr\n",
      "Name: name, Length: 13125, dtype: object\n"
     ]
    },
    {
     "ename": "KeyError",
     "evalue": "('name', 'occurred at index index')",
     "output_type": "error",
     "traceback": [
      "\u001b[0;31m---------------------------------------------------------------------------\u001b[0m",
      "\u001b[0;31mKeyError\u001b[0m                                  Traceback (most recent call last)",
      "\u001b[0;32m<ipython-input-29-fb191f289622>\u001b[0m in \u001b[0;36m<module>\u001b[0;34m\u001b[0m\n\u001b[1;32m     31\u001b[0m \u001b[0mid_output\u001b[0m \u001b[0;34m=\u001b[0m \u001b[0mid_output\u001b[0m\u001b[0;34m.\u001b[0m\u001b[0mreset_index\u001b[0m\u001b[0;34m(\u001b[0m\u001b[0;34m)\u001b[0m\u001b[0;34m\u001b[0m\u001b[0;34m\u001b[0m\u001b[0m\n\u001b[1;32m     32\u001b[0m \u001b[0mprint\u001b[0m\u001b[0;34m(\u001b[0m\u001b[0mid_output\u001b[0m\u001b[0;34m.\u001b[0m\u001b[0mname\u001b[0m\u001b[0;34m)\u001b[0m\u001b[0;34m\u001b[0m\u001b[0;34m\u001b[0m\u001b[0m\n\u001b[0;32m---> 33\u001b[0;31m \u001b[0mid_output\u001b[0m\u001b[0;34m[\u001b[0m\u001b[0;34m'pos'\u001b[0m\u001b[0;34m]\u001b[0m \u001b[0;34m=\u001b[0m \u001b[0mid_output\u001b[0m\u001b[0;34m.\u001b[0m\u001b[0mapply\u001b[0m\u001b[0;34m(\u001b[0m\u001b[0;32mlambda\u001b[0m \u001b[0mrow\u001b[0m\u001b[0;34m:\u001b[0m \u001b[0mhand_fix\u001b[0m\u001b[0;34m(\u001b[0m\u001b[0mrow\u001b[0m\u001b[0;34m[\u001b[0m\u001b[0;34m'name'\u001b[0m\u001b[0;34m]\u001b[0m\u001b[0;34m,\u001b[0m\u001b[0mrow\u001b[0m\u001b[0;34m[\u001b[0m\u001b[0;34m'pos'\u001b[0m\u001b[0;34m]\u001b[0m\u001b[0;34m)\u001b[0m\u001b[0;34m)\u001b[0m\u001b[0;34m\u001b[0m\u001b[0;34m\u001b[0m\u001b[0m\n\u001b[0m\u001b[1;32m     34\u001b[0m \u001b[0;34m\u001b[0m\u001b[0m\n\u001b[1;32m     35\u001b[0m \u001b[0mroster_output\u001b[0m \u001b[0;34m=\u001b[0m \u001b[0mid_output\u001b[0m\u001b[0;34m.\u001b[0m\u001b[0mcopy\u001b[0m\u001b[0;34m(\u001b[0m\u001b[0;34m)\u001b[0m\u001b[0;34m\u001b[0m\u001b[0;34m\u001b[0m\u001b[0m\n",
      "\u001b[0;32m/usr/local/lib/python3.7/site-packages/pandas/core/frame.py\u001b[0m in \u001b[0;36mapply\u001b[0;34m(self, func, axis, broadcast, raw, reduce, result_type, args, **kwds)\u001b[0m\n\u001b[1;32m   6485\u001b[0m                          \u001b[0margs\u001b[0m\u001b[0;34m=\u001b[0m\u001b[0margs\u001b[0m\u001b[0;34m,\u001b[0m\u001b[0;34m\u001b[0m\u001b[0;34m\u001b[0m\u001b[0m\n\u001b[1;32m   6486\u001b[0m                          kwds=kwds)\n\u001b[0;32m-> 6487\u001b[0;31m         \u001b[0;32mreturn\u001b[0m \u001b[0mop\u001b[0m\u001b[0;34m.\u001b[0m\u001b[0mget_result\u001b[0m\u001b[0;34m(\u001b[0m\u001b[0;34m)\u001b[0m\u001b[0;34m\u001b[0m\u001b[0;34m\u001b[0m\u001b[0m\n\u001b[0m\u001b[1;32m   6488\u001b[0m \u001b[0;34m\u001b[0m\u001b[0m\n\u001b[1;32m   6489\u001b[0m     \u001b[0;32mdef\u001b[0m \u001b[0mapplymap\u001b[0m\u001b[0;34m(\u001b[0m\u001b[0mself\u001b[0m\u001b[0;34m,\u001b[0m \u001b[0mfunc\u001b[0m\u001b[0;34m)\u001b[0m\u001b[0;34m:\u001b[0m\u001b[0;34m\u001b[0m\u001b[0;34m\u001b[0m\u001b[0m\n",
      "\u001b[0;32m/usr/local/lib/python3.7/site-packages/pandas/core/apply.py\u001b[0m in \u001b[0;36mget_result\u001b[0;34m(self)\u001b[0m\n\u001b[1;32m    149\u001b[0m             \u001b[0;32mreturn\u001b[0m \u001b[0mself\u001b[0m\u001b[0;34m.\u001b[0m\u001b[0mapply_raw\u001b[0m\u001b[0;34m(\u001b[0m\u001b[0;34m)\u001b[0m\u001b[0;34m\u001b[0m\u001b[0;34m\u001b[0m\u001b[0m\n\u001b[1;32m    150\u001b[0m \u001b[0;34m\u001b[0m\u001b[0m\n\u001b[0;32m--> 151\u001b[0;31m         \u001b[0;32mreturn\u001b[0m \u001b[0mself\u001b[0m\u001b[0;34m.\u001b[0m\u001b[0mapply_standard\u001b[0m\u001b[0;34m(\u001b[0m\u001b[0;34m)\u001b[0m\u001b[0;34m\u001b[0m\u001b[0;34m\u001b[0m\u001b[0m\n\u001b[0m\u001b[1;32m    152\u001b[0m \u001b[0;34m\u001b[0m\u001b[0m\n\u001b[1;32m    153\u001b[0m     \u001b[0;32mdef\u001b[0m \u001b[0mapply_empty_result\u001b[0m\u001b[0;34m(\u001b[0m\u001b[0mself\u001b[0m\u001b[0;34m)\u001b[0m\u001b[0;34m:\u001b[0m\u001b[0;34m\u001b[0m\u001b[0;34m\u001b[0m\u001b[0m\n",
      "\u001b[0;32m/usr/local/lib/python3.7/site-packages/pandas/core/apply.py\u001b[0m in \u001b[0;36mapply_standard\u001b[0;34m(self)\u001b[0m\n\u001b[1;32m    255\u001b[0m \u001b[0;34m\u001b[0m\u001b[0m\n\u001b[1;32m    256\u001b[0m         \u001b[0;31m# compute the result using the series generator\u001b[0m\u001b[0;34m\u001b[0m\u001b[0;34m\u001b[0m\u001b[0;34m\u001b[0m\u001b[0m\n\u001b[0;32m--> 257\u001b[0;31m         \u001b[0mself\u001b[0m\u001b[0;34m.\u001b[0m\u001b[0mapply_series_generator\u001b[0m\u001b[0;34m(\u001b[0m\u001b[0;34m)\u001b[0m\u001b[0;34m\u001b[0m\u001b[0;34m\u001b[0m\u001b[0m\n\u001b[0m\u001b[1;32m    258\u001b[0m \u001b[0;34m\u001b[0m\u001b[0m\n\u001b[1;32m    259\u001b[0m         \u001b[0;31m# wrap results\u001b[0m\u001b[0;34m\u001b[0m\u001b[0;34m\u001b[0m\u001b[0;34m\u001b[0m\u001b[0m\n",
      "\u001b[0;32m/usr/local/lib/python3.7/site-packages/pandas/core/apply.py\u001b[0m in \u001b[0;36mapply_series_generator\u001b[0;34m(self)\u001b[0m\n\u001b[1;32m    284\u001b[0m             \u001b[0;32mtry\u001b[0m\u001b[0;34m:\u001b[0m\u001b[0;34m\u001b[0m\u001b[0;34m\u001b[0m\u001b[0m\n\u001b[1;32m    285\u001b[0m                 \u001b[0;32mfor\u001b[0m \u001b[0mi\u001b[0m\u001b[0;34m,\u001b[0m \u001b[0mv\u001b[0m \u001b[0;32min\u001b[0m \u001b[0menumerate\u001b[0m\u001b[0;34m(\u001b[0m\u001b[0mseries_gen\u001b[0m\u001b[0;34m)\u001b[0m\u001b[0;34m:\u001b[0m\u001b[0;34m\u001b[0m\u001b[0;34m\u001b[0m\u001b[0m\n\u001b[0;32m--> 286\u001b[0;31m                     \u001b[0mresults\u001b[0m\u001b[0;34m[\u001b[0m\u001b[0mi\u001b[0m\u001b[0;34m]\u001b[0m \u001b[0;34m=\u001b[0m \u001b[0mself\u001b[0m\u001b[0;34m.\u001b[0m\u001b[0mf\u001b[0m\u001b[0;34m(\u001b[0m\u001b[0mv\u001b[0m\u001b[0;34m)\u001b[0m\u001b[0;34m\u001b[0m\u001b[0;34m\u001b[0m\u001b[0m\n\u001b[0m\u001b[1;32m    287\u001b[0m                     \u001b[0mkeys\u001b[0m\u001b[0;34m.\u001b[0m\u001b[0mappend\u001b[0m\u001b[0;34m(\u001b[0m\u001b[0mv\u001b[0m\u001b[0;34m.\u001b[0m\u001b[0mname\u001b[0m\u001b[0;34m)\u001b[0m\u001b[0;34m\u001b[0m\u001b[0;34m\u001b[0m\u001b[0m\n\u001b[1;32m    288\u001b[0m             \u001b[0;32mexcept\u001b[0m \u001b[0mException\u001b[0m \u001b[0;32mas\u001b[0m \u001b[0me\u001b[0m\u001b[0;34m:\u001b[0m\u001b[0;34m\u001b[0m\u001b[0;34m\u001b[0m\u001b[0m\n",
      "\u001b[0;32m<ipython-input-29-fb191f289622>\u001b[0m in \u001b[0;36m<lambda>\u001b[0;34m(row)\u001b[0m\n\u001b[1;32m     31\u001b[0m \u001b[0mid_output\u001b[0m \u001b[0;34m=\u001b[0m \u001b[0mid_output\u001b[0m\u001b[0;34m.\u001b[0m\u001b[0mreset_index\u001b[0m\u001b[0;34m(\u001b[0m\u001b[0;34m)\u001b[0m\u001b[0;34m\u001b[0m\u001b[0;34m\u001b[0m\u001b[0m\n\u001b[1;32m     32\u001b[0m \u001b[0mprint\u001b[0m\u001b[0;34m(\u001b[0m\u001b[0mid_output\u001b[0m\u001b[0;34m.\u001b[0m\u001b[0mname\u001b[0m\u001b[0;34m)\u001b[0m\u001b[0;34m\u001b[0m\u001b[0;34m\u001b[0m\u001b[0m\n\u001b[0;32m---> 33\u001b[0;31m \u001b[0mid_output\u001b[0m\u001b[0;34m[\u001b[0m\u001b[0;34m'pos'\u001b[0m\u001b[0;34m]\u001b[0m \u001b[0;34m=\u001b[0m \u001b[0mid_output\u001b[0m\u001b[0;34m.\u001b[0m\u001b[0mapply\u001b[0m\u001b[0;34m(\u001b[0m\u001b[0;32mlambda\u001b[0m \u001b[0mrow\u001b[0m\u001b[0;34m:\u001b[0m \u001b[0mhand_fix\u001b[0m\u001b[0;34m(\u001b[0m\u001b[0mrow\u001b[0m\u001b[0;34m[\u001b[0m\u001b[0;34m'name'\u001b[0m\u001b[0;34m]\u001b[0m\u001b[0;34m,\u001b[0m\u001b[0mrow\u001b[0m\u001b[0;34m[\u001b[0m\u001b[0;34m'pos'\u001b[0m\u001b[0;34m]\u001b[0m\u001b[0;34m)\u001b[0m\u001b[0;34m)\u001b[0m\u001b[0;34m\u001b[0m\u001b[0;34m\u001b[0m\u001b[0m\n\u001b[0m\u001b[1;32m     34\u001b[0m \u001b[0;34m\u001b[0m\u001b[0m\n\u001b[1;32m     35\u001b[0m \u001b[0mroster_output\u001b[0m \u001b[0;34m=\u001b[0m \u001b[0mid_output\u001b[0m\u001b[0;34m.\u001b[0m\u001b[0mcopy\u001b[0m\u001b[0;34m(\u001b[0m\u001b[0;34m)\u001b[0m\u001b[0;34m\u001b[0m\u001b[0;34m\u001b[0m\u001b[0m\n",
      "\u001b[0;32m/usr/local/lib/python3.7/site-packages/pandas/core/series.py\u001b[0m in \u001b[0;36m__getitem__\u001b[0;34m(self, key)\u001b[0m\n\u001b[1;32m    866\u001b[0m         \u001b[0mkey\u001b[0m \u001b[0;34m=\u001b[0m \u001b[0mcom\u001b[0m\u001b[0;34m.\u001b[0m\u001b[0mapply_if_callable\u001b[0m\u001b[0;34m(\u001b[0m\u001b[0mkey\u001b[0m\u001b[0;34m,\u001b[0m \u001b[0mself\u001b[0m\u001b[0;34m)\u001b[0m\u001b[0;34m\u001b[0m\u001b[0;34m\u001b[0m\u001b[0m\n\u001b[1;32m    867\u001b[0m         \u001b[0;32mtry\u001b[0m\u001b[0;34m:\u001b[0m\u001b[0;34m\u001b[0m\u001b[0;34m\u001b[0m\u001b[0m\n\u001b[0;32m--> 868\u001b[0;31m             \u001b[0mresult\u001b[0m \u001b[0;34m=\u001b[0m \u001b[0mself\u001b[0m\u001b[0;34m.\u001b[0m\u001b[0mindex\u001b[0m\u001b[0;34m.\u001b[0m\u001b[0mget_value\u001b[0m\u001b[0;34m(\u001b[0m\u001b[0mself\u001b[0m\u001b[0;34m,\u001b[0m \u001b[0mkey\u001b[0m\u001b[0;34m)\u001b[0m\u001b[0;34m\u001b[0m\u001b[0;34m\u001b[0m\u001b[0m\n\u001b[0m\u001b[1;32m    869\u001b[0m \u001b[0;34m\u001b[0m\u001b[0m\n\u001b[1;32m    870\u001b[0m             \u001b[0;32mif\u001b[0m \u001b[0;32mnot\u001b[0m \u001b[0mis_scalar\u001b[0m\u001b[0;34m(\u001b[0m\u001b[0mresult\u001b[0m\u001b[0;34m)\u001b[0m\u001b[0;34m:\u001b[0m\u001b[0;34m\u001b[0m\u001b[0;34m\u001b[0m\u001b[0m\n",
      "\u001b[0;32m/usr/local/lib/python3.7/site-packages/pandas/core/indexes/base.py\u001b[0m in \u001b[0;36mget_value\u001b[0;34m(self, series, key)\u001b[0m\n\u001b[1;32m   4373\u001b[0m         \u001b[0;32mtry\u001b[0m\u001b[0;34m:\u001b[0m\u001b[0;34m\u001b[0m\u001b[0;34m\u001b[0m\u001b[0m\n\u001b[1;32m   4374\u001b[0m             return self._engine.get_value(s, k,\n\u001b[0;32m-> 4375\u001b[0;31m                                           tz=getattr(series.dtype, 'tz', None))\n\u001b[0m\u001b[1;32m   4376\u001b[0m         \u001b[0;32mexcept\u001b[0m \u001b[0mKeyError\u001b[0m \u001b[0;32mas\u001b[0m \u001b[0me1\u001b[0m\u001b[0;34m:\u001b[0m\u001b[0;34m\u001b[0m\u001b[0;34m\u001b[0m\u001b[0m\n\u001b[1;32m   4377\u001b[0m             \u001b[0;32mif\u001b[0m \u001b[0mlen\u001b[0m\u001b[0;34m(\u001b[0m\u001b[0mself\u001b[0m\u001b[0;34m)\u001b[0m \u001b[0;34m>\u001b[0m \u001b[0;36m0\u001b[0m \u001b[0;32mand\u001b[0m \u001b[0;34m(\u001b[0m\u001b[0mself\u001b[0m\u001b[0;34m.\u001b[0m\u001b[0mholds_integer\u001b[0m\u001b[0;34m(\u001b[0m\u001b[0;34m)\u001b[0m \u001b[0;32mor\u001b[0m \u001b[0mself\u001b[0m\u001b[0;34m.\u001b[0m\u001b[0mis_boolean\u001b[0m\u001b[0;34m(\u001b[0m\u001b[0;34m)\u001b[0m\u001b[0;34m)\u001b[0m\u001b[0;34m:\u001b[0m\u001b[0;34m\u001b[0m\u001b[0;34m\u001b[0m\u001b[0m\n",
      "\u001b[0;32mpandas/_libs/index.pyx\u001b[0m in \u001b[0;36mpandas._libs.index.IndexEngine.get_value\u001b[0;34m()\u001b[0m\n",
      "\u001b[0;32mpandas/_libs/index.pyx\u001b[0m in \u001b[0;36mpandas._libs.index.IndexEngine.get_value\u001b[0;34m()\u001b[0m\n",
      "\u001b[0;32mpandas/_libs/index.pyx\u001b[0m in \u001b[0;36mpandas._libs.index.IndexEngine.get_loc\u001b[0;34m()\u001b[0m\n",
      "\u001b[0;32mpandas/_libs/index_class_helper.pxi\u001b[0m in \u001b[0;36mpandas._libs.index.Int64Engine._check_type\u001b[0;34m()\u001b[0m\n",
      "\u001b[0;31mKeyError\u001b[0m: ('name', 'occurred at index index')"
     ]
    }
   ],
   "source": [
    "id_output = output.copy()\n",
    "\n",
    "def get_id(passer, rusher, receiver):\n",
    "    if isinstance(passer,str):\n",
    "        return passer\n",
    "    if isinstance(rusher,str):\n",
    "        return rusher\n",
    "    if isinstance(receiver,str):\n",
    "        return receiver\n",
    "    \n",
    "id_output['player_id'] = id_output.apply(lambda row: get_id(row['passer_player_id'],row['rusher_player_id'],row['receiver_player_id']),axis=1)\n",
    "\n",
    "def hand_fix(name, pos):\n",
    "    print(name)\n",
    "    print(name)\n",
    "    print(name)\n",
    "    print(name)\n",
    "    print(name)\n",
    "    problematic = {\n",
    "        'Julian Edelman':'WR',\n",
    "        'Randall Cobb':'WR',\n",
    "        'Percy Harvin':'WR',\n",
    "        'Ted Ginn':'WR',\n",
    "        'Kyle Juszczyk':'FB',\n",
    "        \n",
    "    }\n",
    "    if isinstance(name,str):\n",
    "        if name in problematic.keys():\n",
    "            return problematic[name]\n",
    "    return pos\n",
    "id_output = id_output.reset_index()\n",
    "print(id_output.name)\n",
    "id_output['pos'] = id_output.apply(lambda row: hand_fix(row['name'],row['pos']))\n",
    "\n",
    "roster_output = id_output.copy()\n",
    "roster_output.drop_duplicates(subset=['id'],keep='last',inplace=True)\n",
    "roster_output = roster_output.drop(columns=['passer_player_id','rusher_player_id','receiver_player_id'])\n",
    "\n",
    "roster_output.to_csv('./output/roster_info.csv',index=False)\n",
    "print(roster_output.head())\n",
    "\n",
    "id_output.drop_duplicates(subset=['player_id'],keep='last',inplace=True)\n",
    "\n",
    "id_output = id_output.drop(columns=['passer_player_id','rusher_player_id','receiver_player_id'])\n",
    "\n",
    "id_output = id_output[['player_id','pos','name','short_name']]\n",
    "\n",
    "id_output.to_csv('./output/player_ids.csv',index=False)"
   ]
  },
  {
   "cell_type": "code",
   "execution_count": null,
   "metadata": {},
   "outputs": [],
   "source": []
  }
 ],
 "metadata": {
  "kernelspec": {
   "display_name": "Python 3",
   "language": "python",
   "name": "python3"
  },
  "language_info": {
   "codemirror_mode": {
    "name": "ipython",
    "version": 3
   },
   "file_extension": ".py",
   "mimetype": "text/x-python",
   "name": "python",
   "nbconvert_exporter": "python",
   "pygments_lexer": "ipython3",
   "version": "3.7.3"
  }
 },
 "nbformat": 4,
 "nbformat_minor": 2
}
